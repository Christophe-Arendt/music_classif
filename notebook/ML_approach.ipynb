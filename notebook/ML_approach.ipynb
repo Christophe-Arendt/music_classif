{
 "cells": [
  {
   "cell_type": "markdown",
   "metadata": {},
   "source": [
    "# ML approach"
   ]
  },
  {
   "cell_type": "code",
   "execution_count": null,
   "metadata": {},
   "outputs": [],
   "source": [
    "import pandas as pd\n",
    "import numpy as np\n",
    "import matplotlib.pyplot as plt\n",
    "import seaborn as sns\n",
    "import os\n",
    "\n",
    "# ML Preprocessing libraries\n",
    "from sklearn.model_selection import train_test_split\n",
    "from sklearn.pipeline import Pipeline, make_pipeline\n",
    "from sklearn.preprocessing import OneHotEncoder, RobustScaler\n",
    "from sklearn.compose import ColumnTransformer\n",
    "\n",
    "# ML modelling\n",
    "from sklearn.naive_bayes import GaussianNB\n",
    "from sklearn.linear_model import SGDClassifier, LogisticRegression\n",
    "from sklearn.neighbors import KNeighborsClassifier\n",
    "from sklearn.tree import DecisionTreeClassifier\n",
    "from sklearn.ensemble import RandomForestClassifier\n",
    "from sklearn.svm import SVC\n",
    "from sklearn.neural_network import MLPClassifier\n",
    "from xgboost import XGBClassifier, XGBRFClassifier\n",
    "from xgboost import plot_tree, plot_importance\n",
    "from sklearn.model_selection import GridSearchCV\n",
    "\n",
    "# ML evaluation\n",
    "from sklearn.metrics import confusion_matrix, accuracy_score, roc_auc_score, roc_curve\n",
    "from sklearn import preprocessing\n",
    "from sklearn.model_selection import train_test_split\n",
    "from sklearn.feature_selection import RFE\n"
   ]
  },
  {
   "cell_type": "code",
   "execution_count": null,
   "metadata": {
    "scrolled": false
   },
   "outputs": [],
   "source": [
    "# Open dataset\n",
    "df = pd.read_csv(os.path.join(os.getcwd(),'..','dataset','clean_df.csv'))\n",
    "\n",
    "# Shuffle dataset\n",
    "df = df.sample(n=len(df), random_state=42)\n",
    "df.head()"
   ]
  },
  {
   "cell_type": "markdown",
   "metadata": {},
   "source": [
    "# Data Analysis"
   ]
  },
  {
   "cell_type": "code",
   "execution_count": null,
   "metadata": {
    "scrolled": false
   },
   "outputs": [],
   "source": [
    "spike_cols = [col for col in df.columns if 'mfcc' in col]\n",
    "corr = df[spike_cols].corr()\n",
    "\n",
    "# Generate a mask for the upper triangle\n",
    "mask = np.triu(np.ones_like(corr, dtype=np.bool))\n",
    "\n",
    "# Set up the matplotlib figure\n",
    "f, ax = plt.subplots(figsize=(16, 11));\n",
    "\n",
    "# Generate a custom diverging colormap\n",
    "cmap = sns.diverging_palette(0, 25, as_cmap=True, s = 90, l = 45, n = 5)\n",
    "\n",
    "# Draw the heatmap with the mask and correct aspect ratio\n",
    "sns.heatmap(corr, mask=mask, cmap=cmap, vmax=.3, center=0,\n",
    "            square=True, linewidths=.5, cbar_kws={\"shrink\": .5})\n",
    "\n",
    "plt.title('Correlation Heatmap (for the MEAN variables)', fontsize = 25)\n",
    "plt.xticks(fontsize = 10)\n",
    "plt.yticks(fontsize = 10)\n",
    "plt.savefig(\"mfcc_matrix\");"
   ]
  },
  {
   "cell_type": "markdown",
   "metadata": {},
   "source": [
    "# Data cleaning"
   ]
  },
  {
   "cell_type": "code",
   "execution_count": null,
   "metadata": {},
   "outputs": [],
   "source": [
    "# Grab relevant data\n",
    "X = df.iloc[:,:-4]\n",
    "y = df.iloc[:,-4]\n",
    "\n",
    "# Train test split\n",
    "X_train, X_test, y_train, y_test = train_test_split(X, y, test_size=0.33, random_state=42)\n",
    "X_train.shape, X_test.shape, y_train.shape, y_test.shape "
   ]
  },
  {
   "cell_type": "code",
   "execution_count": null,
   "metadata": {},
   "outputs": [],
   "source": [
    "# Pipeline\n",
    "\n",
    "# Standardization\n",
    "stdz = make_pipeline(RobustScaler())\n",
    "\n",
    "# Add all preprocessig steps together\n",
    "preprocessing = [\n",
    "    ('scaler', stdz, list(X.columns))\n",
    "]\n",
    "\n",
    "# Encode features with prprocessing steps\n",
    "features_encoder = ColumnTransformer(preprocessing,remainder=\"drop\")\n",
    "\n",
    "# Build pipeline\n",
    "pipeline = Pipeline(steps=[\n",
    "            ('features', features_encoder)])\n",
    "\n",
    "\n",
    "X_train = pipeline.fit_transform(X_train)\n",
    "X_test = pipeline.transform(X_test)"
   ]
  },
  {
   "cell_type": "markdown",
   "metadata": {
    "heading_collapsed": true
   },
   "source": [
    "## Select and Build model"
   ]
  },
  {
   "cell_type": "code",
   "execution_count": 9,
   "metadata": {
    "hidden": true
   },
   "outputs": [],
   "source": [
    "def model_assess(model, title = \"Default\"):\n",
    "    model.fit(X_train, y_train)\n",
    "    preds = model.predict(X_test)\n",
    "    #print(confusion_matrix(y_test, preds))\n",
    "    print('Accuracy', title, ':', round(accuracy_score(y_test, preds), 5), '\\n')"
   ]
  },
  {
   "cell_type": "code",
   "execution_count": 10,
   "metadata": {
    "hidden": true
   },
   "outputs": [
    {
     "name": "stdout",
     "output_type": "stream",
     "text": [
      "Accuracy Naive Bayes : 0.56155 \n",
      "\n",
      "Accuracy Stochastic Gradient Descent : 0.68951 \n",
      "\n",
      "Accuracy KNN : 0.69375 \n",
      "\n",
      "Accuracy Decission trees : 0.61674 \n",
      "\n",
      "Accuracy Random Forest : 0.7926 \n",
      "\n",
      "Accuracy Support Vector Machine : 0.8017 \n",
      "\n"
     ]
    },
    {
     "name": "stderr",
     "output_type": "stream",
     "text": [
      "c:\\users\\chris\\.venvs\\lewagon\\lib\\site-packages\\sklearn\\linear_model\\_logistic.py:764: ConvergenceWarning: lbfgs failed to converge (status=1):\n",
      "STOP: TOTAL NO. of ITERATIONS REACHED LIMIT.\n",
      "\n",
      "Increase the number of iterations (max_iter) or scale the data as shown in:\n",
      "    https://scikit-learn.org/stable/modules/preprocessing.html\n",
      "Please also refer to the documentation for alternative solver options:\n",
      "    https://scikit-learn.org/stable/modules/linear_model.html#logistic-regression\n",
      "  extra_warning_msg=_LOGISTIC_SOLVER_CONVERGENCE_MSG)\n"
     ]
    },
    {
     "name": "stdout",
     "output_type": "stream",
     "text": [
      "Accuracy Logistic Regression : 0.77987 \n",
      "\n",
      "Accuracy Neural Nets : 0.79867 \n",
      "\n",
      "Accuracy Cross Gradient Booster : 0.83808 \n",
      "\n",
      "Accuracy Cross Gradient Booster (Random Forest) : 0.72286 \n",
      "\n"
     ]
    }
   ],
   "source": [
    "# Naive Bayes\n",
    "nb = GaussianNB()\n",
    "model_assess(nb, \"Naive Bayes\")\n",
    "\n",
    "# Stochastic Gradient Descent\n",
    "sgd = SGDClassifier(max_iter=5000, random_state=0)\n",
    "model_assess(sgd, \"Stochastic Gradient Descent\")\n",
    "\n",
    "# KNN\n",
    "knn = KNeighborsClassifier(n_neighbors=19)\n",
    "model_assess(knn, \"KNN\")\n",
    "\n",
    "# Decission trees\n",
    "tree = DecisionTreeClassifier()\n",
    "model_assess(tree, \"Decission trees\")\n",
    "\n",
    "# Random Forest\n",
    "rforest = RandomForestClassifier(n_estimators=1000, max_depth=10, random_state=0)\n",
    "model_assess(rforest, \"Random Forest\")\n",
    "\n",
    "# Support Vector Machine\n",
    "svm = SVC(decision_function_shape=\"ovo\")\n",
    "model_assess(svm, \"Support Vector Machine\")\n",
    "\n",
    "# Logistic Regression\n",
    "lg = LogisticRegression(random_state=0, solver='lbfgs', multi_class='multinomial')\n",
    "model_assess(lg, \"Logistic Regression\")\n",
    "\n",
    "# Neural Nets\n",
    "nn = MLPClassifier(solver='lbfgs', alpha=1e-5, hidden_layer_sizes=(5000, 10), random_state=1)\n",
    "model_assess(nn, \"Neural Nets\")\n",
    "\n",
    "# Cross Gradient Booster\n",
    "xgb = XGBClassifier(n_estimators=1000, learning_rate=0.05)\n",
    "model_assess(xgb, \"Cross Gradient Booster\")\n",
    "\n",
    "# Cross Gradient Booster (Random Forest)\n",
    "xgbrf = XGBRFClassifier(objective= 'multi:softmax')\n",
    "model_assess(xgbrf, \"Cross Gradient Booster (Random Forest)\")"
   ]
  },
  {
   "cell_type": "markdown",
   "metadata": {},
   "source": [
    "# XGBClassifier"
   ]
  },
  {
   "cell_type": "markdown",
   "metadata": {},
   "source": [
    "### Baseline"
   ]
  },
  {
   "cell_type": "code",
   "execution_count": 16,
   "metadata": {},
   "outputs": [],
   "source": [
    "names = [\"blues\", \"classical\", \"country\", \"disco\", \"hiphop\", \"jazz\", \"metal\", \"pop\", \"reggae\", \"rock\"]"
   ]
  },
  {
   "cell_type": "code",
   "execution_count": 17,
   "metadata": {
    "scrolled": true
   },
   "outputs": [
    {
     "name": "stdout",
     "output_type": "stream",
     "text": [
      "Accuracy : 0.83808 \n",
      "\n"
     ]
    },
    {
     "data": {
      "image/png": "[encoded data removed]",
      "text/plain": [
       "<Figure size 1152x648 with 2 Axes>"
      ]
     },
     "metadata": {
      "needs_background": "light"
     },
     "output_type": "display_data"
    }
   ],
   "source": [
    "# Final model\n",
    "xgb = XGBClassifier(n_estimators=1000, learning_rate=0.05)\n",
    "xgb.fit(X_train, y_train)\n",
    "\n",
    "\n",
    "preds = xgb.predict(X_test)\n",
    "\n",
    "print('Accuracy', ':', round(accuracy_score(y_test, preds), 5), '\\n')\n",
    "\n",
    "# Confusion Matrix\n",
    "confusion_matr = confusion_matrix(y_test, preds) #normalize = 'true'\n",
    "plt.figure(figsize = (16, 9))\n",
    "sns.heatmap(confusion_matr, cmap=\"Blues\", annot=True, \n",
    "            xticklabels = names,\n",
    "           yticklabels=names,\n",
    "           fmt=\"d\");\n",
    "plt.savefig(\"accuracy_confusion_matrix\")"
   ]
  },
  {
   "cell_type": "markdown",
   "metadata": {},
   "source": [
    "### [FINETUNING]   - Grid searching"
   ]
  },
  {
   "cell_type": "code",
   "execution_count": 196,
   "metadata": {},
   "outputs": [],
   "source": [
    "estimator = XGBClassifier(nthread=4,seed=42)\n",
    "\n",
    "parameters = {\n",
    "    'max_depth': range (2, 10, 2),\n",
    "    'n_estimators': range(60, 220, 40),\n",
    "    'learning_rate': [0.1]\n",
    "}\n",
    "\n",
    "grid_search = GridSearchCV(\n",
    "    estimator=estimator,\n",
    "    param_grid=parameters,\n",
    "    scoring = 'accuracy',\n",
    "    n_jobs = -1,\n",
    "    cv = 10,\n",
    "    verbose=True\n",
    ")"
   ]
  },
  {
   "cell_type": "code",
   "execution_count": 197,
   "metadata": {},
   "outputs": [
    {
     "name": "stdout",
     "output_type": "stream",
     "text": [
      "Fitting 10 folds for each of 16 candidates, totalling 160 fits\n"
     ]
    },
    {
     "name": "stderr",
     "output_type": "stream",
     "text": [
      "[Parallel(n_jobs=-1)]: Using backend LokyBackend with 8 concurrent workers.\n",
      "[Parallel(n_jobs=-1)]: Done  34 tasks      | elapsed:  8.2min\n",
      "[Parallel(n_jobs=-1)]: Done 160 out of 160 | elapsed: 66.5min finished\n"
     ]
    },
    {
     "name": "stdout",
     "output_type": "stream",
     "text": [
      "Best: 0.857755 using {'learning_rate': 0.1, 'max_depth': 4, 'n_estimators': 180}\n",
      "0.741501 (0.020859) with: {'learning_rate': 0.1, 'max_depth': 2, 'n_estimators': 60}\n",
      "0.781546 (0.020646) with: {'learning_rate': 0.1, 'max_depth': 2, 'n_estimators': 100}\n",
      "0.800671 (0.013100) with: {'learning_rate': 0.1, 'max_depth': 2, 'n_estimators': 140}\n",
      "0.809335 (0.011152) with: {'learning_rate': 0.1, 'max_depth': 2, 'n_estimators': 180}\n",
      "0.811422 (0.016242) with: {'learning_rate': 0.1, 'max_depth': 4, 'n_estimators': 60}\n",
      "0.839525 (0.022312) with: {'learning_rate': 0.1, 'max_depth': 4, 'n_estimators': 100}\n",
      "0.851181 (0.018353) with: {'learning_rate': 0.1, 'max_depth': 4, 'n_estimators': 140}\n",
      "0.857755 (0.016317) with: {'learning_rate': 0.1, 'max_depth': 4, 'n_estimators': 180}\n",
      "0.825469 (0.018965) with: {'learning_rate': 0.1, 'max_depth': 6, 'n_estimators': 60}\n",
      "0.841310 (0.018685) with: {'learning_rate': 0.1, 'max_depth': 6, 'n_estimators': 100}\n",
      "0.847584 (0.015126) with: {'learning_rate': 0.1, 'max_depth': 6, 'n_estimators': 140}\n",
      "0.850276 (0.017230) with: {'learning_rate': 0.1, 'max_depth': 6, 'n_estimators': 180}\n",
      "0.834442 (0.020237) with: {'learning_rate': 0.1, 'max_depth': 8, 'n_estimators': 60}\n",
      "0.848190 (0.020446) with: {'learning_rate': 0.1, 'max_depth': 8, 'n_estimators': 100}\n",
      "0.855067 (0.020539) with: {'learning_rate': 0.1, 'max_depth': 8, 'n_estimators': 140}\n",
      "0.855664 (0.018992) with: {'learning_rate': 0.1, 'max_depth': 8, 'n_estimators': 180}\n"
     ]
    },
    {
     "ename": "NameError",
     "evalue": "name 'pyplot' is not defined",
     "output_type": "error",
     "traceback": [
      "\u001b[1;31m---------------------------------------------------------------------------\u001b[0m",
      "\u001b[1;31mNameError\u001b[0m                                 Traceback (most recent call last)",
      "\u001b[1;32m<ipython-input-197-800f3418f6fa>\u001b[0m in \u001b[0;36m<module>\u001b[1;34m\u001b[0m\n\u001b[0;32m      8\u001b[0m     \u001b[0mprint\u001b[0m\u001b[1;33m(\u001b[0m\u001b[1;34m\"%f (%f) with: %r\"\u001b[0m \u001b[1;33m%\u001b[0m \u001b[1;33m(\u001b[0m\u001b[0mmean\u001b[0m\u001b[1;33m,\u001b[0m \u001b[0mstdev\u001b[0m\u001b[1;33m,\u001b[0m \u001b[0mparam\u001b[0m\u001b[1;33m)\u001b[0m\u001b[1;33m)\u001b[0m\u001b[1;33m\u001b[0m\u001b[1;33m\u001b[0m\u001b[0m\n\u001b[0;32m      9\u001b[0m \u001b[1;31m# plot\u001b[0m\u001b[1;33m\u001b[0m\u001b[1;33m\u001b[0m\u001b[1;33m\u001b[0m\u001b[0m\n\u001b[1;32m---> 10\u001b[1;33m \u001b[0mpyplot\u001b[0m\u001b[1;33m.\u001b[0m\u001b[0merrorbar\u001b[0m\u001b[1;33m(\u001b[0m\u001b[0mn_estimators\u001b[0m\u001b[1;33m,\u001b[0m \u001b[0mmeans\u001b[0m\u001b[1;33m,\u001b[0m \u001b[0myerr\u001b[0m\u001b[1;33m=\u001b[0m\u001b[0mstds\u001b[0m\u001b[1;33m)\u001b[0m\u001b[1;33m\u001b[0m\u001b[1;33m\u001b[0m\u001b[0m\n\u001b[0m\u001b[0;32m     11\u001b[0m \u001b[0mpyplot\u001b[0m\u001b[1;33m.\u001b[0m\u001b[0mtitle\u001b[0m\u001b[1;33m(\u001b[0m\u001b[1;34m\"XGBoost n_estimators vs Log Loss\"\u001b[0m\u001b[1;33m)\u001b[0m\u001b[1;33m\u001b[0m\u001b[1;33m\u001b[0m\u001b[0m\n\u001b[0;32m     12\u001b[0m \u001b[0mpyplot\u001b[0m\u001b[1;33m.\u001b[0m\u001b[0mxlabel\u001b[0m\u001b[1;33m(\u001b[0m\u001b[1;34m'n_estimators'\u001b[0m\u001b[1;33m)\u001b[0m\u001b[1;33m\u001b[0m\u001b[1;33m\u001b[0m\u001b[0m\n",
      "\u001b[1;31mNameError\u001b[0m: name 'pyplot' is not defined"
     ]
    }
   ],
   "source": [
    "grid_result = grid_search.fit(X_train, y_train)\n",
    "# summarize results\n",
    "print(\"Best: %f using %s\" % (grid_result.best_score_, grid_result.best_params_))\n",
    "means = grid_result.cv_results_['mean_test_score']\n",
    "stds = grid_result.cv_results_['std_test_score']\n",
    "params = grid_result.cv_results_['params']\n",
    "for mean, stdev, param in zip(means, stds, params):\n",
    "    print(\"%f (%f) with: %r\" % (mean, stdev, param))"
   ]
  },
  {
   "cell_type": "markdown",
   "metadata": {},
   "source": [
    "### Run model"
   ]
  },
  {
   "cell_type": "code",
   "execution_count": 11,
   "metadata": {},
   "outputs": [
    {
     "name": "stdout",
     "output_type": "stream",
     "text": [
      "Fitting 10 folds for each of 40 candidates, totalling 400 fits\n"
     ]
    },
    {
     "name": "stderr",
     "output_type": "stream",
     "text": [
      "[Parallel(n_jobs=-1)]: Using backend LokyBackend with 8 concurrent workers.\n",
      "[Parallel(n_jobs=-1)]: Done   2 tasks      | elapsed:  4.6min\n",
      "[Parallel(n_jobs=-1)]: Done   9 tasks      | elapsed:  9.0min\n",
      "[Parallel(n_jobs=-1)]: Done  16 tasks      | elapsed:  9.2min\n",
      "[Parallel(n_jobs=-1)]: Done  25 tasks      | elapsed: 19.6min\n",
      "[Parallel(n_jobs=-1)]: Done  34 tasks      | elapsed: 25.8min\n",
      "[Parallel(n_jobs=-1)]: Done  45 tasks      | elapsed: 31.4min\n",
      "[Parallel(n_jobs=-1)]: Done  56 tasks      | elapsed: 38.3min\n",
      "[Parallel(n_jobs=-1)]: Done  69 tasks      | elapsed: 50.4min\n",
      "[Parallel(n_jobs=-1)]: Done  82 tasks      | elapsed: 62.5min\n",
      "[Parallel(n_jobs=-1)]: Done  97 tasks      | elapsed: 75.5min\n",
      "[Parallel(n_jobs=-1)]: Done 112 tasks      | elapsed: 83.4min\n",
      "[Parallel(n_jobs=-1)]: Done 129 tasks      | elapsed: 103.5min\n",
      "[Parallel(n_jobs=-1)]: Done 146 tasks      | elapsed: 118.4min\n",
      "[Parallel(n_jobs=-1)]: Done 165 tasks      | elapsed: 140.3min\n",
      "[Parallel(n_jobs=-1)]: Done 184 tasks      | elapsed: 162.8min\n",
      "[Parallel(n_jobs=-1)]: Done 205 tasks      | elapsed: 183.0min\n",
      "[Parallel(n_jobs=-1)]: Done 226 tasks      | elapsed: 210.4min\n",
      "[Parallel(n_jobs=-1)]: Done 249 tasks      | elapsed: 230.1min\n",
      "[Parallel(n_jobs=-1)]: Done 272 tasks      | elapsed: 245.9min\n",
      "[Parallel(n_jobs=-1)]: Done 297 tasks      | elapsed: 268.7min\n",
      "[Parallel(n_jobs=-1)]: Done 322 tasks      | elapsed: 290.3min\n",
      "[Parallel(n_jobs=-1)]: Done 349 tasks      | elapsed: 314.9min\n",
      "[Parallel(n_jobs=-1)]: Done 376 tasks      | elapsed: 339.4min\n",
      "[Parallel(n_jobs=-1)]: Done 400 out of 400 | elapsed: 360.1min finished\n"
     ]
    }
   ],
   "source": [
    "estimator = XGBClassifier(nthread=4,seed=42)\n",
    "\n",
    "parameters = {\n",
    "    'max_depth': range(4,6,1),\n",
    "    'n_estimators': range(200, 400, 10),\n",
    "    'learning_rate': [0.1]\n",
    "}\n",
    "\n",
    "grid_search2 = GridSearchCV(\n",
    "    estimator=estimator,\n",
    "    param_grid=parameters,\n",
    "    scoring = 'accuracy',\n",
    "    n_jobs = -1,\n",
    "    cv = 10,\n",
    "    verbose=10\n",
    ")\n",
    "\n",
    "grid_result2 = grid_search2.fit(X_train, y_train)\n",
    "# summarize results"
   ]
  },
  {
   "cell_type": "code",
   "execution_count": 12,
   "metadata": {
    "scrolled": true
   },
   "outputs": [
    {
     "name": "stdout",
     "output_type": "stream",
     "text": [
      "Best: 0.867613 using {'learning_rate': 0.1, 'max_depth': 4, 'n_estimators': 370}\n",
      "0.859846 (0.015267) with: {'learning_rate': 0.1, 'max_depth': 4, 'n_estimators': 200}\n",
      "0.859846 (0.016617) with: {'learning_rate': 0.1, 'max_depth': 4, 'n_estimators': 210}\n",
      "0.861338 (0.016623) with: {'learning_rate': 0.1, 'max_depth': 4, 'n_estimators': 220}\n",
      "0.862835 (0.017404) with: {'learning_rate': 0.1, 'max_depth': 4, 'n_estimators': 230}\n",
      "0.863730 (0.017908) with: {'learning_rate': 0.1, 'max_depth': 4, 'n_estimators': 240}\n",
      "0.863133 (0.017727) with: {'learning_rate': 0.1, 'max_depth': 4, 'n_estimators': 250}\n",
      "0.862534 (0.016334) with: {'learning_rate': 0.1, 'max_depth': 4, 'n_estimators': 260}\n",
      "0.865222 (0.015760) with: {'learning_rate': 0.1, 'max_depth': 4, 'n_estimators': 270}\n",
      "0.864923 (0.014970) with: {'learning_rate': 0.1, 'max_depth': 4, 'n_estimators': 280}\n",
      "0.865220 (0.014962) with: {'learning_rate': 0.1, 'max_depth': 4, 'n_estimators': 290}\n",
      "0.866416 (0.014756) with: {'learning_rate': 0.1, 'max_depth': 4, 'n_estimators': 300}\n",
      "0.866417 (0.013549) with: {'learning_rate': 0.1, 'max_depth': 4, 'n_estimators': 310}\n",
      "0.866119 (0.013790) with: {'learning_rate': 0.1, 'max_depth': 4, 'n_estimators': 320}\n",
      "0.867611 (0.013699) with: {'learning_rate': 0.1, 'max_depth': 4, 'n_estimators': 330}\n",
      "0.865221 (0.013512) with: {'learning_rate': 0.1, 'max_depth': 4, 'n_estimators': 340}\n",
      "0.867014 (0.012616) with: {'learning_rate': 0.1, 'max_depth': 4, 'n_estimators': 350}\n",
      "0.866416 (0.013694) with: {'learning_rate': 0.1, 'max_depth': 4, 'n_estimators': 360}\n",
      "0.867613 (0.014933) with: {'learning_rate': 0.1, 'max_depth': 4, 'n_estimators': 370}\n",
      "0.865821 (0.015531) with: {'learning_rate': 0.1, 'max_depth': 4, 'n_estimators': 380}\n",
      "0.866418 (0.014925) with: {'learning_rate': 0.1, 'max_depth': 4, 'n_estimators': 390}\n",
      "0.857158 (0.017558) with: {'learning_rate': 0.1, 'max_depth': 5, 'n_estimators': 200}\n",
      "0.856859 (0.016871) with: {'learning_rate': 0.1, 'max_depth': 5, 'n_estimators': 210}\n",
      "0.859846 (0.016233) with: {'learning_rate': 0.1, 'max_depth': 5, 'n_estimators': 220}\n",
      "0.858951 (0.016889) with: {'learning_rate': 0.1, 'max_depth': 5, 'n_estimators': 230}\n",
      "0.860442 (0.016554) with: {'learning_rate': 0.1, 'max_depth': 5, 'n_estimators': 240}\n",
      "0.860144 (0.016266) with: {'learning_rate': 0.1, 'max_depth': 5, 'n_estimators': 250}\n",
      "0.860144 (0.016046) with: {'learning_rate': 0.1, 'max_depth': 5, 'n_estimators': 260}\n",
      "0.860740 (0.016307) with: {'learning_rate': 0.1, 'max_depth': 5, 'n_estimators': 270}\n",
      "0.860741 (0.016732) with: {'learning_rate': 0.1, 'max_depth': 5, 'n_estimators': 280}\n",
      "0.861039 (0.015860) with: {'learning_rate': 0.1, 'max_depth': 5, 'n_estimators': 290}\n",
      "0.860742 (0.016619) with: {'learning_rate': 0.1, 'max_depth': 5, 'n_estimators': 300}\n",
      "0.860743 (0.017034) with: {'learning_rate': 0.1, 'max_depth': 5, 'n_estimators': 310}\n",
      "0.861041 (0.017353) with: {'learning_rate': 0.1, 'max_depth': 5, 'n_estimators': 320}\n",
      "0.861043 (0.017643) with: {'learning_rate': 0.1, 'max_depth': 5, 'n_estimators': 330}\n",
      "0.861642 (0.017470) with: {'learning_rate': 0.1, 'max_depth': 5, 'n_estimators': 340}\n",
      "0.860746 (0.017572) with: {'learning_rate': 0.1, 'max_depth': 5, 'n_estimators': 350}\n",
      "0.861942 (0.017751) with: {'learning_rate': 0.1, 'max_depth': 5, 'n_estimators': 360}\n",
      "0.862838 (0.017488) with: {'learning_rate': 0.1, 'max_depth': 5, 'n_estimators': 370}\n",
      "0.863435 (0.017164) with: {'learning_rate': 0.1, 'max_depth': 5, 'n_estimators': 380}\n",
      "0.863136 (0.016834) with: {'learning_rate': 0.1, 'max_depth': 5, 'n_estimators': 390}\n"
     ]
    }
   ],
   "source": [
    "print(\"Best: %f using %s\" % (grid_result2.best_score_, grid_result2.best_params_))\n",
    "means = grid_result2.cv_results_['mean_test_score']\n",
    "stds = grid_result2.cv_results_['std_test_score']\n",
    "params = grid_result2.cv_results_['params']\n",
    "for mean, stdev, param in zip(means, stds, params):\n",
    "    print(\"%f (%f) with: %r\" % (mean, stdev, param))"
   ]
  },
  {
   "cell_type": "code",
   "execution_count": null,
   "metadata": {},
   "outputs": [],
   "source": []
  },
  {
   "cell_type": "markdown",
   "metadata": {},
   "source": [
    "### tune learning rate"
   ]
  },
  {
   "cell_type": "code",
   "execution_count": 13,
   "metadata": {},
   "outputs": [
    {
     "name": "stdout",
     "output_type": "stream",
     "text": [
      "Fitting 10 folds for each of 10 candidates, totalling 100 fits\n"
     ]
    },
    {
     "name": "stderr",
     "output_type": "stream",
     "text": [
      "[Parallel(n_jobs=-1)]: Using backend LokyBackend with 8 concurrent workers.\n",
      "[Parallel(n_jobs=-1)]: Done   2 tasks      | elapsed:  5.9min\n",
      "[Parallel(n_jobs=-1)]: Done   9 tasks      | elapsed: 10.6min\n",
      "[Parallel(n_jobs=-1)]: Done  16 tasks      | elapsed: 11.6min\n",
      "[Parallel(n_jobs=-1)]: Done  25 tasks      | elapsed: 24.3min\n",
      "[Parallel(n_jobs=-1)]: Done  34 tasks      | elapsed: 33.4min\n",
      "[Parallel(n_jobs=-1)]: Done  45 tasks      | elapsed: 43.9min\n",
      "[Parallel(n_jobs=-1)]: Done  56 tasks      | elapsed: 52.1min\n",
      "[Parallel(n_jobs=-1)]: Done  69 tasks      | elapsed: 67.4min\n",
      "[Parallel(n_jobs=-1)]: Done  82 tasks      | elapsed: 84.3min\n",
      "[Parallel(n_jobs=-1)]: Done  96 out of 100 | elapsed: 97.8min remaining:  4.1min\n",
      "[Parallel(n_jobs=-1)]: Done 100 out of 100 | elapsed: 100.9min finished\n"
     ]
    }
   ],
   "source": [
    "estimator = XGBClassifier(nthread=4,seed=42)\n",
    "\n",
    "parameters = {\n",
    "    'max_depth': range(4,6,1),\n",
    "    'n_estimators': range(200, 400, 40),\n",
    "    'learning_rate': [0.05]\n",
    "}\n",
    "\n",
    "grid_search3 = GridSearchCV(\n",
    "    estimator=estimator,\n",
    "    param_grid=parameters,\n",
    "    scoring = 'accuracy',\n",
    "    n_jobs = -1,\n",
    "    cv = 10,\n",
    "    verbose=10\n",
    ")\n",
    "\n",
    "grid_result3 = grid_search3.fit(X_train, y_train)\n",
    "# summarize results"
   ]
  },
  {
   "cell_type": "code",
   "execution_count": 14,
   "metadata": {},
   "outputs": [
    {
     "name": "stdout",
     "output_type": "stream",
     "text": [
      "Best: 0.856856 using {'learning_rate': 0.05, 'max_depth': 5, 'n_estimators': 360}\n",
      "0.839520 (0.018916) with: {'learning_rate': 0.05, 'max_depth': 4, 'n_estimators': 200}\n",
      "0.846693 (0.016549) with: {'learning_rate': 0.05, 'max_depth': 4, 'n_estimators': 240}\n",
      "0.850875 (0.015072) with: {'learning_rate': 0.05, 'max_depth': 4, 'n_estimators': 280}\n",
      "0.852669 (0.016734) with: {'learning_rate': 0.05, 'max_depth': 4, 'n_estimators': 320}\n",
      "0.856850 (0.014680) with: {'learning_rate': 0.05, 'max_depth': 4, 'n_estimators': 360}\n",
      "0.843703 (0.019136) with: {'learning_rate': 0.05, 'max_depth': 5, 'n_estimators': 200}\n",
      "0.850877 (0.017992) with: {'learning_rate': 0.05, 'max_depth': 5, 'n_estimators': 240}\n",
      "0.854762 (0.018181) with: {'learning_rate': 0.05, 'max_depth': 5, 'n_estimators': 280}\n",
      "0.855359 (0.015586) with: {'learning_rate': 0.05, 'max_depth': 5, 'n_estimators': 320}\n",
      "0.856856 (0.015404) with: {'learning_rate': 0.05, 'max_depth': 5, 'n_estimators': 360}\n"
     ]
    }
   ],
   "source": [
    "print(\"Best: %f using %s\" % (grid_result3.best_score_, grid_result3.best_params_))\n",
    "means = grid_result3.cv_results_['mean_test_score']\n",
    "stds = grid_result3.cv_results_['std_test_score']\n",
    "params = grid_result3.cv_results_['params']\n",
    "for mean, stdev, param in zip(means, stds, params):\n",
    "    print(\"%f (%f) with: %r\" % (mean, stdev, param))"
   ]
  },
  {
   "cell_type": "markdown",
   "metadata": {},
   "source": [
    "# Full fledged pipeline"
   ]
  },
  {
   "cell_type": "code",
   "execution_count": 18,
   "metadata": {},
   "outputs": [],
   "source": [
    "#---------------------------------------------------------\n",
    "#  Retrieve data\n",
    "#---------------------------------------------------------\n",
    "\n",
    "def get_data(test_size=0.33):\n",
    "    # Open dataset\n",
    "    df = pd.read_csv(os.path.join(os.getcwd(),'..','dataset','clean_df.csv'))\n",
    "\n",
    "    # Shuffle dataset\n",
    "    df = df.sample(n=len(df), random_state=42)\n",
    "    # Grab relevant data\n",
    "    X = df.iloc[:,:-4]\n",
    "    y = df.iloc[:,-4]\n",
    "\n",
    "    # Train test split\n",
    "    X_train, X_test, y_train, y_test = train_test_split(X, y, test_size=test_size, random_state=42)\n",
    "    return X_train, X_test, y_train, y_test "
   ]
  },
  {
   "cell_type": "code",
   "execution_count": 26,
   "metadata": {},
   "outputs": [],
   "source": [
    "from sklearn.model_selection import cross_val_predict\n",
    "from sklearn.model_selection import cross_val_score"
   ]
  },
  {
   "cell_type": "code",
   "execution_count": 44,
   "metadata": {},
   "outputs": [],
   "source": [
    "#---------------------------------------------------------\n",
    "#  Build pipeline\n",
    "#---------------------------------------------------------\n",
    "\n",
    "\n",
    "def pipeline(save_locally = False, cross_val = False):\n",
    "    # Load data\n",
    "    X_train, X_test, y_train, y_test = get_data()\n",
    "    \n",
    "    # Standardization\n",
    "    stdz = make_pipeline(RobustScaler())\n",
    "\n",
    "    # Add all preprocessig steps together\n",
    "    preprocessing = [\n",
    "        ('scaler', stdz, list(X.columns))\n",
    "    ]\n",
    "\n",
    "    # Encode features with prprocessing steps\n",
    "    features_encoder = ColumnTransformer(preprocessing,remainder=\"drop\")\n",
    "    \n",
    "    # Model\n",
    "    xgb = XGBClassifier(learning_rate =  0.1, max_depth = 4, n_estimators = 370)\n",
    "    \n",
    "\n",
    "    # Build pipeline\n",
    "    pipeline = Pipeline(steps=[\n",
    "                ('features', features_encoder),\n",
    "                ('model', xgb)])\n",
    "    \n",
    "    # Fit model\n",
    "    if cross_val == True :\n",
    "        result = cross_val_score(pipeline, X_train, y_train, cv=10)\n",
    "        y_pred = cross_val_predict(pipeline, X_test, y_test, cv=10)\n",
    "        accuracy = round(accuracy_score(y_test, y_pred))\n",
    "    else :\n",
    "        pipeline  = pipeline.fit(X_train, y_train)\n",
    "        y_pred = pipeline.predict(X_test, y_test)\n",
    "        accuracy = round(accuracy_score(y_test, y_pred))\n",
    "    \n",
    "    # Save model\n",
    "    if save_locally == True :\n",
    "        print('# Saved Locally')\n",
    "        pass\n",
    "                                      \n",
    "    return accuracy, result, y_pred"
   ]
  },
  {
   "cell_type": "code",
   "execution_count": 46,
   "metadata": {},
   "outputs": [
    {
     "ename": "TypeError",
     "evalue": "predict() takes 2 positional arguments but 3 were given",
     "output_type": "error",
     "traceback": [
      "\u001b[1;31m---------------------------------------------------------------------------\u001b[0m",
      "\u001b[1;31mTypeError\u001b[0m                                 Traceback (most recent call last)",
      "\u001b[1;32m<ipython-input-46-71463d32c1b2>\u001b[0m in \u001b[0;36m<module>\u001b[1;34m\u001b[0m\n\u001b[1;32m----> 1\u001b[1;33m \u001b[0maccuracy\u001b[0m\u001b[1;33m,\u001b[0m \u001b[0mresult\u001b[0m\u001b[1;33m,\u001b[0m \u001b[0my_pred\u001b[0m \u001b[1;33m=\u001b[0m \u001b[0mpipeline\u001b[0m\u001b[1;33m(\u001b[0m\u001b[1;33m)\u001b[0m\u001b[1;33m\u001b[0m\u001b[1;33m\u001b[0m\u001b[0m\n\u001b[0m",
      "\u001b[1;32m<ipython-input-44-69c0832d26d7>\u001b[0m in \u001b[0;36mpipeline\u001b[1;34m(save_locally)\u001b[0m\n\u001b[0;32m     26\u001b[0m     \u001b[1;31m#y_pred = cross_val_predict(pipeline, X_test, y_test, cv=10)\u001b[0m\u001b[1;33m\u001b[0m\u001b[1;33m\u001b[0m\u001b[1;33m\u001b[0m\u001b[0m\n\u001b[0;32m     27\u001b[0m     \u001b[1;31m#pipeline  = pipeline.fit(X_train, y_train)\u001b[0m\u001b[1;33m\u001b[0m\u001b[1;33m\u001b[0m\u001b[1;33m\u001b[0m\u001b[0m\n\u001b[1;32m---> 28\u001b[1;33m     \u001b[0my_pred\u001b[0m \u001b[1;33m=\u001b[0m \u001b[0mpipeline\u001b[0m\u001b[1;33m.\u001b[0m\u001b[0mpredict\u001b[0m\u001b[1;33m(\u001b[0m\u001b[0mX_test\u001b[0m\u001b[1;33m,\u001b[0m \u001b[0my_test\u001b[0m\u001b[1;33m)\u001b[0m\u001b[1;33m\u001b[0m\u001b[1;33m\u001b[0m\u001b[0m\n\u001b[0m\u001b[0;32m     29\u001b[0m     \u001b[0maccuracy\u001b[0m \u001b[1;33m=\u001b[0m \u001b[0mround\u001b[0m\u001b[1;33m(\u001b[0m\u001b[0maccuracy_score\u001b[0m\u001b[1;33m(\u001b[0m\u001b[0my_test\u001b[0m\u001b[1;33m,\u001b[0m \u001b[0mpreds\u001b[0m\u001b[1;33m)\u001b[0m\u001b[1;33m)\u001b[0m\u001b[1;33m\u001b[0m\u001b[1;33m\u001b[0m\u001b[0m\n\u001b[0;32m     30\u001b[0m \u001b[1;33m\u001b[0m\u001b[0m\n",
      "\u001b[1;32mc:\\users\\chris\\.venvs\\lewagon\\lib\\site-packages\\sklearn\\utils\\metaestimators.py\u001b[0m in \u001b[0;36m<lambda>\u001b[1;34m(*args, **kwargs)\u001b[0m\n\u001b[0;32m    117\u001b[0m \u001b[1;33m\u001b[0m\u001b[0m\n\u001b[0;32m    118\u001b[0m         \u001b[1;31m# lambda, but not partial, allows help() to work with update_wrapper\u001b[0m\u001b[1;33m\u001b[0m\u001b[1;33m\u001b[0m\u001b[1;33m\u001b[0m\u001b[0m\n\u001b[1;32m--> 119\u001b[1;33m         \u001b[0mout\u001b[0m \u001b[1;33m=\u001b[0m \u001b[1;32mlambda\u001b[0m \u001b[1;33m*\u001b[0m\u001b[0margs\u001b[0m\u001b[1;33m,\u001b[0m \u001b[1;33m**\u001b[0m\u001b[0mkwargs\u001b[0m\u001b[1;33m:\u001b[0m \u001b[0mself\u001b[0m\u001b[1;33m.\u001b[0m\u001b[0mfn\u001b[0m\u001b[1;33m(\u001b[0m\u001b[0mobj\u001b[0m\u001b[1;33m,\u001b[0m \u001b[1;33m*\u001b[0m\u001b[0margs\u001b[0m\u001b[1;33m,\u001b[0m \u001b[1;33m**\u001b[0m\u001b[0mkwargs\u001b[0m\u001b[1;33m)\u001b[0m\u001b[1;33m\u001b[0m\u001b[1;33m\u001b[0m\u001b[0m\n\u001b[0m\u001b[0;32m    120\u001b[0m         \u001b[1;31m# update the docstring of the returned function\u001b[0m\u001b[1;33m\u001b[0m\u001b[1;33m\u001b[0m\u001b[1;33m\u001b[0m\u001b[0m\n\u001b[0;32m    121\u001b[0m         \u001b[0mupdate_wrapper\u001b[0m\u001b[1;33m(\u001b[0m\u001b[0mout\u001b[0m\u001b[1;33m,\u001b[0m \u001b[0mself\u001b[0m\u001b[1;33m.\u001b[0m\u001b[0mfn\u001b[0m\u001b[1;33m)\u001b[0m\u001b[1;33m\u001b[0m\u001b[1;33m\u001b[0m\u001b[0m\n",
      "\u001b[1;31mTypeError\u001b[0m: predict() takes 2 positional arguments but 3 were given"
     ]
    }
   ],
   "source": [
    "accuracy, result, y_pred = pipeline()"
   ]
  },
  {
   "cell_type": "code",
   "execution_count": null,
   "metadata": {},
   "outputs": [],
   "source": []
  },
  {
   "cell_type": "code",
   "execution_count": null,
   "metadata": {},
   "outputs": [],
   "source": []
  },
  {
   "cell_type": "code",
   "execution_count": null,
   "metadata": {},
   "outputs": [],
   "source": []
  },
  {
   "cell_type": "code",
   "execution_count": null,
   "metadata": {},
   "outputs": [],
   "source": []
  },
  {
   "cell_type": "code",
   "execution_count": 45,
   "metadata": {},
   "outputs": [
    {
     "data": {
      "text/plain": [
       "array([0, 5, 9, ..., 9, 7, 9], dtype=int64)"
      ]
     },
     "execution_count": 45,
     "metadata": {},
     "output_type": "execute_result"
    }
   ],
   "source": [
    "y_pred"
   ]
  },
  {
   "cell_type": "code",
   "execution_count": 28,
   "metadata": {},
   "outputs": [],
   "source": [
    "result, y_pred = pipeline()"
   ]
  },
  {
   "cell_type": "code",
   "execution_count": 31,
   "metadata": {},
   "outputs": [
    {
     "data": {
      "text/plain": [
       "0.8511688195792338"
      ]
     },
     "execution_count": 31,
     "metadata": {},
     "output_type": "execute_result"
    }
   ],
   "source": [
    "np.mean(result)"
   ]
  },
  {
   "cell_type": "code",
   "execution_count": null,
   "metadata": {},
   "outputs": [],
   "source": [
    "round(accuracy_score(y_test, preds)"
   ]
  }
 ],
 "metadata": {
  "kernelspec": {
   "display_name": "Python 3",
   "language": "python",
   "name": "python3"
  },
  "language_info": {
   "codemirror_mode": {
    "name": "ipython",
    "version": 3
   },
   "file_extension": ".py",
   "mimetype": "text/x-python",
   "name": "python",
   "nbconvert_exporter": "python",
   "pygments_lexer": "ipython3",
   "version": "3.7.7"
  },
  "toc": {
   "base_numbering": 1,
   "nav_menu": {},
   "number_sections": true,
   "sideBar": true,
   "skip_h1_title": false,
   "title_cell": "Table of Contents",
   "title_sidebar": "Contents",
   "toc_cell": false,
   "toc_position": {},
   "toc_section_display": true,
   "toc_window_display": false
  }
 },
 "nbformat": 4,
 "nbformat_minor": 4
}
